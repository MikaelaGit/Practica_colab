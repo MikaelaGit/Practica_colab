{
  "nbformat": 4,
  "nbformat_minor": 0,
  "metadata": {
    "colab": {
      "name": "Untitled1.ipynb",
      "provenance": [],
      "authorship_tag": "ABX9TyN7pKW+WmdguP78ar5/ClVu",
      "include_colab_link": true
    },
    "kernelspec": {
      "name": "python3",
      "display_name": "Python 3"
    },
    "language_info": {
      "name": "python"
    }
  },
  "cells": [
    {
      "cell_type": "markdown",
      "metadata": {
        "id": "view-in-github",
        "colab_type": "text"
      },
      "source": [
        "<a href=\"https://colab.research.google.com/github/MikaelaGit/Practica_colab/blob/main/Practica.ipynb\" target=\"_parent\"><img src=\"https://colab.research.google.com/assets/colab-badge.svg\" alt=\"Open In Colab\"/></a>"
      ]
    },
    {
      "cell_type": "code",
      "execution_count": null,
      "metadata": {
        "id": "W7oUSWcPw4K-"
      },
      "outputs": [],
      "source": [
        "#Estructuras de Datos\n"
      ]
    },
    {
      "cell_type": "code",
      "source": [
        "#Practica de flujos de control \n",
        "\n",
        "#Crear dos variables y un condicional que informe si son del mismo tipo de dato\n",
        "\n",
        "a = 12\n",
        "b = 'True'\n",
        "if(type(a) == type(b)):\n",
        "  print('Las variables son del mismo tipo')\n",
        "else: \n",
        "  print('Las variables son de distinto tipo')"
      ],
      "metadata": {
        "colab": {
          "base_uri": "https://localhost:8080/"
        },
        "id": "T5FWW9WrxGI5",
        "outputId": "14508d7e-665b-4639-a840-0d9ae5d250dd"
      },
      "execution_count": null,
      "outputs": [
        {
          "output_type": "stream",
          "name": "stdout",
          "text": [
            "Las variables son de distinto tipo\n"
          ]
        }
      ]
    },
    {
      "cell_type": "code",
      "source": [
        "#Ejercicio 3\n",
        "\n",
        "a = 7\n",
        "if(a % 2 == 0):\n",
        "  print(a, 'Es un numero par')\n",
        "else:\n",
        "  print(a, 'el numero es impar')"
      ],
      "metadata": {
        "colab": {
          "base_uri": "https://localhost:8080/"
        },
        "id": "6okkeJFKzinN",
        "outputId": "a3e62edb-c6df-4879-8877-eee4e704a65a"
      },
      "execution_count": null,
      "outputs": [
        {
          "output_type": "stream",
          "name": "stdout",
          "text": [
            "7 el numero es impar\n"
          ]
        }
      ]
    },
    {
      "cell_type": "code",
      "source": [
        "#recorrer los valores enteros de 1 al 20\n",
        "\n",
        "for a in range(1,21):\n",
        "  print(a)"
      ],
      "metadata": {
        "id": "XcJ9p7Xy0Xuz"
      },
      "execution_count": null,
      "outputs": []
    },
    {
      "cell_type": "code",
      "source": [
        "for a in range(1,21):\n",
        "  if(a % 2 == 0):\n",
        "    print(a, 'Es un numero par')\n",
        "  else:\n",
        "    print(a, 'Es un numero es impar')"
      ],
      "metadata": {
        "colab": {
          "base_uri": "https://localhost:8080/"
        },
        "id": "-RKVGlit1RXX",
        "outputId": "5b51a935-6108-4773-af3a-566935dad2e1"
      },
      "execution_count": null,
      "outputs": [
        {
          "output_type": "stream",
          "name": "stdout",
          "text": [
            "1 Es un numero es impar\n",
            "2 Es un numero par\n",
            "3 Es un numero es impar\n",
            "4 Es un numero par\n",
            "5 Es un numero es impar\n",
            "6 Es un numero par\n",
            "7 Es un numero es impar\n",
            "8 Es un numero par\n",
            "9 Es un numero es impar\n",
            "10 Es un numero par\n",
            "11 Es un numero es impar\n",
            "12 Es un numero par\n",
            "13 Es un numero es impar\n",
            "14 Es un numero par\n",
            "15 Es un numero es impar\n",
            "16 Es un numero par\n",
            "17 Es un numero es impar\n",
            "18 Es un numero par\n",
            "19 Es un numero es impar\n",
            "20 Es un numero par\n"
          ]
        }
      ]
    },
    {
      "cell_type": "code",
      "source": [
        "for a in range(1,21):\n",
        "  if(a % 2 == 0):\n",
        "    print(a, 'Es un numero par')\n",
        "for a in range(1,21):\n",
        "  if(a % 2 == 1):\n",
        "    print(a, 'Es un numero impar')\n",
        "  "
      ],
      "metadata": {
        "colab": {
          "base_uri": "https://localhost:8080/"
        },
        "id": "oIuM06eX1ouW",
        "outputId": "1eede7e8-2b17-482a-97a7-14800df9d76d"
      },
      "execution_count": null,
      "outputs": [
        {
          "output_type": "stream",
          "name": "stdout",
          "text": [
            "2 Es un numero par\n",
            "4 Es un numero par\n",
            "6 Es un numero par\n",
            "8 Es un numero par\n",
            "10 Es un numero par\n",
            "12 Es un numero par\n",
            "14 Es un numero par\n",
            "16 Es un numero par\n",
            "18 Es un numero par\n",
            "20 Es un numero par\n",
            "1 Es un numero impar\n",
            "3 Es un numero impar\n",
            "5 Es un numero impar\n",
            "7 Es un numero impar\n",
            "9 Es un numero impar\n",
            "11 Es un numero impar\n",
            "13 Es un numero impar\n",
            "15 Es un numero impar\n",
            "17 Es un numero impar\n",
            "19 Es un numero impar\n"
          ]
        }
      ]
    },
    {
      "cell_type": "code",
      "source": [
        "#Borrar un variable \n",
        "del(a)"
      ],
      "metadata": {
        "id": "C9SOuuLV2OLQ"
      },
      "execution_count": null,
      "outputs": []
    },
    {
      "cell_type": "code",
      "source": [
        "#ejercicio 5\n",
        "n = 12\n",
        "for i in range(0, n):\n",
        "  pass\n",
        "print(i)\n"
      ],
      "metadata": {
        "colab": {
          "base_uri": "https://localhost:8080/"
        },
        "id": "ABntNUCb2mLZ",
        "outputId": "8f50c1a8-ea02-4cce-8336-ea2bc1774914"
      },
      "execution_count": null,
      "outputs": [
        {
          "output_type": "stream",
          "name": "stdout",
          "text": [
            "11\n"
          ]
        }
      ]
    }
  ]
}