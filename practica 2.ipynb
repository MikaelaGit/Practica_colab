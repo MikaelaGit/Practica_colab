{
  "nbformat": 4,
  "nbformat_minor": 0,
  "metadata": {
    "colab": {
      "name": "Untitled1.ipynb",
      "provenance": [],
      "authorship_tag": "ABX9TyPOEXE+1MBhZm6XN/JzOtFL",
      "include_colab_link": true
    },
    "kernelspec": {
      "name": "python3",
      "display_name": "Python 3"
    },
    "language_info": {
      "name": "python"
    }
  },
  "cells": [
    {
      "cell_type": "markdown",
      "metadata": {
        "id": "view-in-github",
        "colab_type": "text"
      },
      "source": [
        "<a href=\"https://colab.research.google.com/github/MikaelaGit/Practica_colab/blob/main/practica%202.ipynb\" target=\"_parent\"><img src=\"https://colab.research.google.com/assets/colab-badge.svg\" alt=\"Open In Colab\"/></a>"
      ]
    },
    {
      "cell_type": "code",
      "execution_count": null,
      "metadata": {
        "id": "W7oUSWcPw4K-"
      },
      "outputs": [],
      "source": [
        "#Estructuras de Datos\n"
      ]
    },
    {
      "cell_type": "code",
      "source": [
        "#Practica de flujos de control \n",
        "\n",
        "#Crear dos variables y un condicional que informe si son del mismo tipo de dato\n",
        "\n",
        "a = 12\n",
        "b = 'True'\n",
        "if(type(a) == type(b)):\n",
        "  print('Las variables son del mismo tipo')\n",
        "else: \n",
        "  print('Las variables son de distinto tipo')"
      ],
      "metadata": {
        "colab": {
          "base_uri": "https://localhost:8080/"
        },
        "id": "T5FWW9WrxGI5",
        "outputId": "14508d7e-665b-4639-a840-0d9ae5d250dd"
      },
      "execution_count": null,
      "outputs": [
        {
          "output_type": "stream",
          "name": "stdout",
          "text": [
            "Las variables son de distinto tipo\n"
          ]
        }
      ]
    },
    {
      "cell_type": "code",
      "source": [
        "#Ejercicio 3\n",
        "\n",
        "a = 7\n",
        "if(a % 2 == 0):\n",
        "  print(a, 'Es un numero par')\n",
        "else:\n",
        "  print(a, 'el numero es impar')"
      ],
      "metadata": {
        "colab": {
          "base_uri": "https://localhost:8080/"
        },
        "id": "6okkeJFKzinN",
        "outputId": "a3e62edb-c6df-4879-8877-eee4e704a65a"
      },
      "execution_count": null,
      "outputs": [
        {
          "output_type": "stream",
          "name": "stdout",
          "text": [
            "7 el numero es impar\n"
          ]
        }
      ]
    },
    {
      "cell_type": "code",
      "source": [
        "#recorrer los valores enteros de 1 al 20\n",
        "\n",
        "for a in range(1,21):\n",
        "  print(a)"
      ],
      "metadata": {
        "id": "XcJ9p7Xy0Xuz"
      },
      "execution_count": null,
      "outputs": []
    },
    {
      "cell_type": "code",
      "source": [
        "for a in range(1,21):\n",
        "  if(a % 2 == 0):\n",
        "    print(a, 'Es un numero par')\n",
        "  else:\n",
        "    print(a, 'Es un numero es impar')"
      ],
      "metadata": {
        "colab": {
          "base_uri": "https://localhost:8080/"
        },
        "id": "-RKVGlit1RXX",
        "outputId": "5b51a935-6108-4773-af3a-566935dad2e1"
      },
      "execution_count": null,
      "outputs": [
        {
          "output_type": "stream",
          "name": "stdout",
          "text": [
            "1 Es un numero es impar\n",
            "2 Es un numero par\n",
            "3 Es un numero es impar\n",
            "4 Es un numero par\n",
            "5 Es un numero es impar\n",
            "6 Es un numero par\n",
            "7 Es un numero es impar\n",
            "8 Es un numero par\n",
            "9 Es un numero es impar\n",
            "10 Es un numero par\n",
            "11 Es un numero es impar\n",
            "12 Es un numero par\n",
            "13 Es un numero es impar\n",
            "14 Es un numero par\n",
            "15 Es un numero es impar\n",
            "16 Es un numero par\n",
            "17 Es un numero es impar\n",
            "18 Es un numero par\n",
            "19 Es un numero es impar\n",
            "20 Es un numero par\n"
          ]
        }
      ]
    },
    {
      "cell_type": "code",
      "source": [
        "for a in range(1,21):\n",
        "  if(a % 2 == 0):\n",
        "    print(a, 'Es un numero par')\n",
        "for a in range(1,21):\n",
        "  if(a % 2 == 1):\n",
        "    print(a, 'Es un numero impar')\n",
        "  "
      ],
      "metadata": {
        "colab": {
          "base_uri": "https://localhost:8080/"
        },
        "id": "oIuM06eX1ouW",
        "outputId": "1eede7e8-2b17-482a-97a7-14800df9d76d"
      },
      "execution_count": null,
      "outputs": [
        {
          "output_type": "stream",
          "name": "stdout",
          "text": [
            "2 Es un numero par\n",
            "4 Es un numero par\n",
            "6 Es un numero par\n",
            "8 Es un numero par\n",
            "10 Es un numero par\n",
            "12 Es un numero par\n",
            "14 Es un numero par\n",
            "16 Es un numero par\n",
            "18 Es un numero par\n",
            "20 Es un numero par\n",
            "1 Es un numero impar\n",
            "3 Es un numero impar\n",
            "5 Es un numero impar\n",
            "7 Es un numero impar\n",
            "9 Es un numero impar\n",
            "11 Es un numero impar\n",
            "13 Es un numero impar\n",
            "15 Es un numero impar\n",
            "17 Es un numero impar\n",
            "19 Es un numero impar\n"
          ]
        }
      ]
    },
    {
      "cell_type": "code",
      "source": [
        "#Borrar un variable \n",
        "del(a)"
      ],
      "metadata": {
        "id": "C9SOuuLV2OLQ"
      },
      "execution_count": null,
      "outputs": []
    },
    {
      "cell_type": "code",
      "source": [
        "#Ejercico 4\n",
        "for i in range(0,6):\n",
        "  print('Valor', str(i), 'Elevado a la tercera potencia:', (i**3))"
      ],
      "metadata": {
        "colab": {
          "base_uri": "https://localhost:8080/"
        },
        "id": "3UEWNVuk7PKW",
        "outputId": "8a610988-0c3a-41a6-8fc4-8e0994641a52"
      },
      "execution_count": 15,
      "outputs": [
        {
          "output_type": "stream",
          "name": "stdout",
          "text": [
            "Valor 0 Elevado a la tercera potencia: 0\n",
            "Valor 1 Elevado a la tercera potencia: 1\n",
            "Valor 2 Elevado a la tercera potencia: 8\n",
            "Valor 3 Elevado a la tercera potencia: 27\n",
            "Valor 4 Elevado a la tercera potencia: 64\n",
            "Valor 5 Elevado a la tercera potencia: 125\n"
          ]
        }
      ]
    },
    {
      "cell_type": "code",
      "source": [
        "#ejercicio 5, los range pueden usar variables \n",
        "n = 12\n",
        "for i in range(0, n):\n",
        "  pass  #no sirve para nada, si no se pone no funciona.\n",
        "print(i)\n"
      ],
      "metadata": {
        "colab": {
          "base_uri": "https://localhost:8080/"
        },
        "id": "ABntNUCb2mLZ",
        "outputId": "8f50c1a8-ea02-4cce-8336-ea2bc1774914"
      },
      "execution_count": null,
      "outputs": [
        {
          "output_type": "stream",
          "name": "stdout",
          "text": [
            "11\n"
          ]
        }
      ]
    },
    {
      "cell_type": "code",
      "source": [
        "n = 12\n",
        "for i in range(0, n):\n",
        "  print(n)"
      ],
      "metadata": {
        "colab": {
          "base_uri": "https://localhost:8080/"
        },
        "id": "qIGzO87z9EYd",
        "outputId": "e0763688-206d-478e-b731-9a817cb020bf"
      },
      "execution_count": 19,
      "outputs": [
        {
          "output_type": "stream",
          "name": "stdout",
          "text": [
            "12\n",
            "12\n",
            "12\n",
            "12\n",
            "12\n",
            "12\n",
            "12\n",
            "12\n",
            "12\n",
            "12\n",
            "12\n",
            "12\n"
          ]
        }
      ]
    },
    {
      "cell_type": "code",
      "source": [
        "print('La variable i tiene valor', i)"
      ],
      "metadata": {
        "colab": {
          "base_uri": "https://localhost:8080/"
        },
        "id": "RDV6g3p88IxR",
        "outputId": "a18f2769-aa50-4c45-ee8b-619b51373ee9"
      },
      "execution_count": 16,
      "outputs": [
        {
          "output_type": "stream",
          "name": "stdout",
          "text": [
            "La variable i tiene valor 5\n"
          ]
        }
      ]
    },
    {
      "cell_type": "code",
      "source": [
        "print('La variable i tiene valor '+ str(i))"
      ],
      "metadata": {
        "colab": {
          "base_uri": "https://localhost:8080/"
        },
        "id": "G3EqQyGx8zPO",
        "outputId": "f1bec719-294a-4667-b200-9ee86b11cd8f"
      },
      "execution_count": 18,
      "outputs": [
        {
          "output_type": "stream",
          "name": "stdout",
          "text": [
            "La variable i tiene valor 5\n"
          ]
        }
      ]
    },
    {
      "cell_type": "code",
      "source": [
        "#Ejercicio 6\n",
        "\n",
        "a = -2\n",
        "if (a > 0):\n",
        "  pass\n",
        "else:\n",
        "  print('La variable debe ser mayor a cero')"
      ],
      "metadata": {
        "colab": {
          "base_uri": "https://localhost:8080/"
        },
        "id": "fd0EHBMS9QPr",
        "outputId": "a7abc36b-39c9-4666-d601-fba67be27880"
      },
      "execution_count": 22,
      "outputs": [
        {
          "output_type": "stream",
          "name": "stdout",
          "text": [
            "La variable debe ser mayor a cero\n"
          ]
        }
      ]
    },
    {
      "cell_type": "code",
      "source": [
        "a = 'ji'\n",
        "if (type(a) == int):  #Hacer esta estructura me permite \n",
        "  if(a > 0):           #evitar fallas si variable no es un numero entero\n",
        "    pass\n",
        "  else: \n",
        "    print('La variable debe ser mayor a cero')\n",
        "else:\n",
        "  print('La variable debe ser un numero entero')"
      ],
      "metadata": {
        "colab": {
          "base_uri": "https://localhost:8080/"
        },
        "id": "i0fNHxsV9zuA",
        "outputId": "b8a67b1c-ca9e-4ac5-8f9b-bd4ffd0a75b1"
      },
      "execution_count": 23,
      "outputs": [
        {
          "output_type": "stream",
          "name": "stdout",
          "text": [
            "La variable debe ser un numero entero\n"
          ]
        }
      ]
    },
    {
      "cell_type": "code",
      "source": [
        "#Ejemplo puede fallar si se pone al reves (a > 0) and (type(a) == int)\n",
        "#porque a es un str. \n",
        "a = 'hola'\n",
        "if (type(a) == int) and (a > 0):  \n",
        "  pass\n",
        "else:\n",
        "  print('La variable debe ser un numero entero y mayor a cero')"
      ],
      "metadata": {
        "colab": {
          "base_uri": "https://localhost:8080/"
        },
        "id": "hQHfdcLUAQ0R",
        "outputId": "8e5ddb12-288d-4bc9-89b0-0328b3dcf8a3"
      },
      "execution_count": 24,
      "outputs": [
        {
          "output_type": "stream",
          "name": "stdout",
          "text": [
            "La variable debe ser un numero entero y mayor a cero\n"
          ]
        }
      ]
    },
    {
      "cell_type": "code",
      "source": [
        "#Factorial de 5 = 5 x 4 x 5 x 3 x 2 x 1\n",
        "\n",
        "a = 5\n",
        "factorial = 1\n",
        "if (type(a) == int):  #para ver si es un entero \n",
        "  if(a > 0):          #para ver si es mayor a cero  \n",
        "    while(a > 1):\n",
        "      factorial = factorial * a \n",
        "      a -= 1  \n",
        "    print('El factorial de', a, 'es', factorial)\n",
        "  else: \n",
        "    print('La variable debe ser mayor a cero')\n",
        "else: \n",
        "  print('La variable debe ser un numero entero')\n",
        "#se pierde le valor original de a "
      ],
      "metadata": {
        "colab": {
          "base_uri": "https://localhost:8080/"
        },
        "id": "Amn7itPu-wDx",
        "outputId": "83d11ddf-b6b9-4323-fce0-6528da9601b5"
      },
      "execution_count": 25,
      "outputs": [
        {
          "output_type": "stream",
          "name": "stdout",
          "text": [
            "El factorial de 1 es 120\n"
          ]
        }
      ]
    },
    {
      "cell_type": "code",
      "source": [
        "#Factorial de 5 = 5 x 4 x 5 x 3 x 2 x 1\n",
        "\n",
        "a = 5\n",
        "factorial = 1\n",
        "if (type(a) == int):  #para ver si es un entero \n",
        "  if(a > 0):\n",
        "    a_original = a \n",
        "    while(a > 1):\n",
        "      factorial = factorial * a \n",
        "      a -= 1  \n",
        "    print('El factorial de', a_original, 'es', factorial)\n",
        "  else: \n",
        "    print('La variable debe ser mayor a cero')\n",
        "else: \n",
        "  print('La variable debe ser un numero entero')"
      ],
      "metadata": {
        "colab": {
          "base_uri": "https://localhost:8080/"
        },
        "id": "kI1DhIqJCnEN",
        "outputId": "d247bc8f-4ca2-41cc-b554-858c76f796b6"
      },
      "execution_count": 27,
      "outputs": [
        {
          "output_type": "stream",
          "name": "stdout",
          "text": [
            "El factorial de 5 es 120\n"
          ]
        }
      ]
    },
    {
      "cell_type": "code",
      "source": [
        "#crear un ciclo while dentro de un ciclo for \n",
        "\n",
        "n = 0 #contador\n",
        "while (n < 5):\n",
        "  n += 1 \n",
        "  for i in range(1,n):\n",
        "    print('Ciclo while nro' + str(n))\n",
        "    print('Ciclo for nro' + str(i))"
      ],
      "metadata": {
        "colab": {
          "base_uri": "https://localhost:8080/"
        },
        "id": "Z4wBrMwdDpN1",
        "outputId": "12a5c42c-36c0-4c13-e8d6-ecac3391d90d"
      },
      "execution_count": 30,
      "outputs": [
        {
          "output_type": "stream",
          "name": "stdout",
          "text": [
            "Ciclo while nro2\n",
            "Ciclo for nro1\n",
            "Ciclo while nro3\n",
            "Ciclo for nro1\n",
            "Ciclo while nro3\n",
            "Ciclo for nro2\n",
            "Ciclo while nro4\n",
            "Ciclo for nro1\n",
            "Ciclo while nro4\n",
            "Ciclo for nro2\n",
            "Ciclo while nro4\n",
            "Ciclo for nro3\n",
            "Ciclo while nro5\n",
            "Ciclo for nro1\n",
            "Ciclo while nro5\n",
            "Ciclo for nro2\n",
            "Ciclo while nro5\n",
            "Ciclo for nro3\n",
            "Ciclo while nro5\n",
            "Ciclo for nro4\n"
          ]
        }
      ]
    },
    {
      "cell_type": "code",
      "source": [
        ""
      ],
      "metadata": {
        "id": "TGZgcdI0DmJu"
      },
      "execution_count": null,
      "outputs": []
    }
  ]
}