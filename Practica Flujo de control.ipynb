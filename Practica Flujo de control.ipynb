{
  "nbformat": 4,
  "nbformat_minor": 0,
  "metadata": {
    "colab": {
      "name": "Untitled2.ipynb",
      "provenance": [],
      "authorship_tag": "ABX9TyPyYYy8ow/j3xnmONUEMjQA",
      "include_colab_link": true
    },
    "kernelspec": {
      "name": "python3",
      "display_name": "Python 3"
    },
    "language_info": {
      "name": "python"
    }
  },
  "cells": [
    {
      "cell_type": "markdown",
      "metadata": {
        "id": "view-in-github",
        "colab_type": "text"
      },
      "source": [
        "<a href=\"https://colab.research.google.com/github/MikaelaGit/Practica_colab/blob/main/Practica%20Flujo%20de%20control.ipynb\" target=\"_parent\"><img src=\"https://colab.research.google.com/assets/colab-badge.svg\" alt=\"Open In Colab\"/></a>"
      ]
    },
    {
      "cell_type": "code",
      "execution_count": 1,
      "metadata": {
        "id": "cWAz7lDQWlBc"
      },
      "outputs": [],
      "source": [
        "#Flujos de control - Academia Coder \n",
        "#Diagrama de flujo: es una forma de representar de manera gráfica un algoritmo\n",
        "#siguiendo una metodología para resolver un problema \n",
        "#  1 analisis \n",
        "# 2 construcción \n",
        "# 3 prueba de escritorio "
      ]
    },
    {
      "cell_type": "code",
      "source": [
        "#Estructuras de control condicionales: nos permiten evaluar si una o mas condiciones\n",
        "#se cumplen para poder tomar una determinado decisión\n",
        "#Video de deividcoptero\n",
        "#if condición:\n",
        "#  intruccines "
      ],
      "metadata": {
        "id": "dH5I0XUuYPiY"
      },
      "execution_count": 2,
      "outputs": []
    },
    {
      "cell_type": "code",
      "source": [
        "#ejemplo\n",
        "numero = 8\n",
        "if numero > 0:                  #Si numero es mayor a 0:\n",
        "  print('numero es positivo')   # imprime(numero es postivo)\n",
        "elif numero < 0:                #Sino, si numero e menor a cero\n",
        "  print('numero es negativo')   # imprime(numero es negativo)\n",
        "else:                           #Sino:\n",
        "  print('numero es igual a 0')  # imprime(numero es igual a 0)\n"
      ],
      "metadata": {
        "colab": {
          "base_uri": "https://localhost:8080/"
        },
        "id": "fFzN9QnCb2Dk",
        "outputId": "a791da3a-e287-42fc-ea8b-56486649cab2"
      },
      "execution_count": 20,
      "outputs": [
        {
          "output_type": "stream",
          "name": "stdout",
          "text": [
            "numero es positivo\n"
          ]
        }
      ]
    },
    {
      "cell_type": "code",
      "source": [
        "#Estructuras de control iterativos: nos permiten ejecutar un bloque de código\n",
        "#hasta que la condición deje de cumplirse o un numero determinado de veces\n",
        "#While : mientras \n",
        "#mientras la condición se cumpla, se ejecutaran las instrucciones\n",
        "#dentro de la estructura While condición:   \n",
        "#input(): entrada de datos al programa "
      ],
      "metadata": {
        "id": "d9FgVc8ae1k_"
      },
      "execution_count": null,
      "outputs": []
    },
    {
      "cell_type": "code",
      "source": [
        "respuesta = 'Si'\n",
        "numero = 8\n",
        "while respuesta == 'si':\n",
        "  numero = int(input('Ingrese un numero: '))  #Pedimos que un usuario ingrese un numero \n",
        "  if numero > 0:                  #Si numero es mayor a 0:\n",
        "      print('numero es positivo')   # imprime(numero es postivo)\n",
        "  elif numero < 0:                #Sino, si numero e menor a cero\n",
        "      print('numero es negativo')   # imprime(numero es negativo)\n",
        "  else:                           #Sino:\n",
        "      print('numero es igual a 0')  # imprime(numero es igual a 0)"
      ],
      "metadata": {
        "id": "DsocslasgfdY"
      },
      "execution_count": 24,
      "outputs": []
    },
    {
      "cell_type": "code",
      "source": [
        "respuesta = 'Si'\n",
        "numero = 0\n",
        "while respuesta == 'Si':\n",
        "  numero = int(input('Ingrese un numero: '))  \n",
        "  if numero > 0:                  \n",
        "      print('numero es positivo')   \n",
        "  elif numero < 0:                \n",
        "      print('numero es negativo')\n",
        "  else: \n",
        "      print('numero es igual a 0')  "
      ],
      "metadata": {
        "colab": {
          "base_uri": "https://localhost:8080/",
          "height": 252
        },
        "id": "uQtLvOnwiA5g",
        "outputId": "c4026e7b-d174-4dcc-dccb-4bef2ef1208b"
      },
      "execution_count": 34,
      "outputs": [
        {
          "name": "stdout",
          "output_type": "stream",
          "text": [
            "Ingrese un numero: gfhfgs\n"
          ]
        },
        {
          "output_type": "error",
          "ename": "ValueError",
          "evalue": "ignored",
          "traceback": [
            "\u001b[0;31m---------------------------------------------------------------------------\u001b[0m",
            "\u001b[0;31mValueError\u001b[0m                                Traceback (most recent call last)",
            "\u001b[0;32m<ipython-input-34-13b2527a1a75>\u001b[0m in \u001b[0;36m<module>\u001b[0;34m()\u001b[0m\n\u001b[1;32m      2\u001b[0m \u001b[0mnumero\u001b[0m \u001b[0;34m=\u001b[0m \u001b[0;36m0\u001b[0m\u001b[0;34m\u001b[0m\u001b[0;34m\u001b[0m\u001b[0m\n\u001b[1;32m      3\u001b[0m \u001b[0;32mwhile\u001b[0m \u001b[0mrespuesta\u001b[0m \u001b[0;34m==\u001b[0m \u001b[0;34m'Si'\u001b[0m\u001b[0;34m:\u001b[0m\u001b[0;34m\u001b[0m\u001b[0;34m\u001b[0m\u001b[0m\n\u001b[0;32m----> 4\u001b[0;31m   \u001b[0mnumero\u001b[0m \u001b[0;34m=\u001b[0m \u001b[0mint\u001b[0m\u001b[0;34m(\u001b[0m\u001b[0minput\u001b[0m\u001b[0;34m(\u001b[0m\u001b[0;34m'Ingrese un numero: '\u001b[0m\u001b[0;34m)\u001b[0m\u001b[0;34m)\u001b[0m\u001b[0;34m\u001b[0m\u001b[0;34m\u001b[0m\u001b[0m\n\u001b[0m\u001b[1;32m      5\u001b[0m   \u001b[0;32mif\u001b[0m \u001b[0mnumero\u001b[0m \u001b[0;34m>\u001b[0m \u001b[0;36m0\u001b[0m\u001b[0;34m:\u001b[0m\u001b[0;34m\u001b[0m\u001b[0;34m\u001b[0m\u001b[0m\n\u001b[1;32m      6\u001b[0m       \u001b[0mprint\u001b[0m\u001b[0;34m(\u001b[0m\u001b[0;34m'numero es positivo'\u001b[0m\u001b[0;34m)\u001b[0m\u001b[0;34m\u001b[0m\u001b[0;34m\u001b[0m\u001b[0m\n",
            "\u001b[0;31mValueError\u001b[0m: invalid literal for int() with base 10: 'gfhfgs'"
          ]
        }
      ]
    },
    {
      "cell_type": "code",
      "source": [
        "respuesta = 'Si'\n",
        "numero = 0\n",
        "while respuesta == 'Si':\n",
        "  numero = int(input('Ingrese un numero: '))  \n",
        "  if numero > 0:                  \n",
        "      print('numero es positivo')   \n",
        "  elif numero < 0:                \n",
        "      print('numero es negativo')\n",
        "  else: \n",
        "      print('numero es igual a 0')\n",
        "  respuesta = input('¿Quieres ingresar otro numero? <si o no>')"
      ],
      "metadata": {
        "colab": {
          "base_uri": "https://localhost:8080/"
        },
        "id": "XE4swzlOi8Mt",
        "outputId": "c097d01f-cb7e-4a3c-96a3-04021e8856f4"
      },
      "execution_count": 38,
      "outputs": [
        {
          "name": "stdout",
          "output_type": "stream",
          "text": [
            "Ingrese un numero: 7\n",
            "numero es positivo\n",
            "¿Quieres ingresar otro numero? <si o no>no\n"
          ]
        }
      ]
    },
    {
      "cell_type": "code",
      "source": [
        "#Estructura de control iterativa \n",
        "#Bucle for = para, por \n",
        "#nos permite realizar iteraciones sobre una variable compleja\n",
        "#ya sea lista o tupla \n",
        "mi_lista = ['Python', 'Java','C++', 'PHP', 'Ruby']\n",
        "for lenguaje in mi_lista :  #por cada lenguaje en mi lista\n",
        "    print(lenguaje) #imprimir lenguaje"
      ],
      "metadata": {
        "colab": {
          "base_uri": "https://localhost:8080/"
        },
        "id": "Wa4Z6sm9j3jq",
        "outputId": "f9cf06e6-8f08-4c5b-af7e-c8b93e5fcb98"
      },
      "execution_count": 39,
      "outputs": [
        {
          "output_type": "stream",
          "name": "stdout",
          "text": [
            "Python\n",
            "Java\n",
            "C++\n",
            "PHP\n",
            "Ruby\n"
          ]
        }
      ]
    },
    {
      "cell_type": "code",
      "source": [
        "for edad in range(10, 18):\n",
        "  print('Tu edad es: ', edad)"
      ],
      "metadata": {
        "colab": {
          "base_uri": "https://localhost:8080/"
        },
        "id": "GQugDHP8mwG-",
        "outputId": "3e07381c-169c-49ff-df7a-7548ffaaf9a7"
      },
      "execution_count": 41,
      "outputs": [
        {
          "output_type": "stream",
          "name": "stdout",
          "text": [
            "Tu edad es:  10\n",
            "Tu edad es:  11\n",
            "Tu edad es:  12\n",
            "Tu edad es:  13\n",
            "Tu edad es:  14\n",
            "Tu edad es:  15\n",
            "Tu edad es:  16\n",
            "Tu edad es:  17\n"
          ]
        }
      ]
    },
    {
      "cell_type": "code",
      "source": [
        "tabla = [1, 2, 3, 4, 5, 6, 7, 8, 9, 10]\n",
        "multiplicar = int(input('¿Que tabla de multiplicar desea?'))\n",
        "for numero in tabla: \n",
        "  print(multiplicar, 'x', numero, '=', multiplicar*numero)"
      ],
      "metadata": {
        "colab": {
          "base_uri": "https://localhost:8080/"
        },
        "id": "Fjxkz-evnVYu",
        "outputId": "f4585dbe-9164-48ac-bc43-9d75ed528daf"
      },
      "execution_count": 43,
      "outputs": [
        {
          "output_type": "stream",
          "name": "stdout",
          "text": [
            "¿Que tabla de multiplicar desea?8\n",
            "8 x 1 = 8\n",
            "8 x 2 = 16\n",
            "8 x 3 = 24\n",
            "8 x 4 = 32\n",
            "8 x 5 = 40\n",
            "8 x 6 = 48\n",
            "8 x 7 = 56\n",
            "8 x 8 = 64\n",
            "8 x 9 = 72\n",
            "8 x 10 = 80\n"
          ]
        }
      ]
    },
    {
      "cell_type": "code",
      "source": [
        "#Bucle while video de programación ATS \n",
        "#Calcular la raiz cuadrada de un numero \n",
        "numero = int(input('Digitar un numero: '))\n",
        "while numero < 0: \n",
        "  print('Error -> Deberia ser un numero positivo')\n",
        "  numero = int(input('Digitar un numero: '))\n",
        "print('Su raiz cuadrada es: ', numero ** 2)"
      ],
      "metadata": {
        "colab": {
          "base_uri": "https://localhost:8080/"
        },
        "id": "qgzr0BISoq_4",
        "outputId": "519f8989-7087-4137-cae3-80d4891714a1"
      },
      "execution_count": 44,
      "outputs": [
        {
          "output_type": "stream",
          "name": "stdout",
          "text": [
            "Digitar un numero: 5\n",
            "Su raiz cuadrada es:  25\n"
          ]
        }
      ]
    },
    {
      "cell_type": "code",
      "source": [
        "import math \n",
        "numero = int(input('Digitar un numero: '))\n",
        "while numero < 0: \n",
        "  print('Error -> Deberia ser un numero positivo')\n",
        "  numero = int(input('Digitar un numero: '))\n",
        "print(f'\\nSu raiz cuadrada es: {(math.sqrt(numero)):.2f}')"
      ],
      "metadata": {
        "colab": {
          "base_uri": "https://localhost:8080/"
        },
        "id": "uY7DuroCqxvb",
        "outputId": "9b35d5d9-6b21-4d8d-e56b-9bd5cf790f7b"
      },
      "execution_count": 50,
      "outputs": [
        {
          "output_type": "stream",
          "name": "stdout",
          "text": [
            "Digitar un numero: -5\n",
            "Error -> Deberia ser un numero positivo\n",
            "Digitar un numero: 25\n",
            "\n",
            "Su raiz cuadrada es: 5.00\n"
          ]
        }
      ]
    },
    {
      "cell_type": "code",
      "source": [
        "contador = 0 \n",
        "while contador < 10:\n",
        "  print('Hola Mundo')\n",
        "  contador += 1"
      ],
      "metadata": {
        "id": "voHJSmYtsroK"
      },
      "execution_count": null,
      "outputs": []
    },
    {
      "cell_type": "code",
      "source": [
        "#ciclo for de programación ATS \n",
        "for i in [1, 2, 3, 4, 'Hola']:\n",
        "  print('Hola mundo')"
      ],
      "metadata": {
        "colab": {
          "base_uri": "https://localhost:8080/"
        },
        "id": "52fq6ey1uHa8",
        "outputId": "720661ba-2cf3-4377-e1bf-01d9a3ab3f26"
      },
      "execution_count": 54,
      "outputs": [
        {
          "output_type": "stream",
          "name": "stdout",
          "text": [
            "Hola mundo\n",
            "Hola mundo\n",
            "Hola mundo\n",
            "Hola mundo\n",
            "Hola mundo\n"
          ]
        }
      ]
    },
    {
      "cell_type": "code",
      "source": [
        "for i in [1, 10, 3, 4, 'Hola']:\n",
        "  print(f'Elemeto: {i}')"
      ],
      "metadata": {
        "colab": {
          "base_uri": "https://localhost:8080/"
        },
        "id": "po_ddIfwv5Zt",
        "outputId": "ed087a78-19ca-47be-c167-eab77f1fe8ff"
      },
      "execution_count": 55,
      "outputs": [
        {
          "output_type": "stream",
          "name": "stdout",
          "text": [
            "Elemeto: 1\n",
            "Elemeto: 10\n",
            "Elemeto: 3\n",
            "Elemeto: 4\n",
            "Elemeto: Hola\n"
          ]
        }
      ]
    },
    {
      "cell_type": "code",
      "source": [
        "coleccion = [1, 10, 3, 4, 'Hola']\n",
        "for i in coleccion: \n",
        "  print(f'Elemeto: {i}')"
      ],
      "metadata": {
        "colab": {
          "base_uri": "https://localhost:8080/"
        },
        "id": "oM3QWtJSwunp",
        "outputId": "e7368aa9-8025-46f5-9f1c-93b48c074901"
      },
      "execution_count": 57,
      "outputs": [
        {
          "output_type": "stream",
          "name": "stdout",
          "text": [
            "Elemeto: 1\n",
            "Elemeto: 10\n",
            "Elemeto: 3\n",
            "Elemeto: 4\n",
            "Elemeto: Hola\n"
          ]
        }
      ]
    },
    {
      "cell_type": "markdown",
      "source": [
        "[lista] {Conjuntos} ¿? (colección) \n",
        "  [ ] { } ¿?"
      ],
      "metadata": {
        "id": "iDO4n8u7xEvo"
      }
    },
    {
      "cell_type": "code",
      "source": [
        "coleccion = {'Alejandro':22, 'Maria':23, 'Jose':45, 'Luis':12} #diccionario\n",
        "#for i in coleccion: \n",
        "  #print(f'Elemeto: {i}') Si pongo esto imprime solo el nombre/clave\n",
        "\n",
        "for i in coleccion: \n",
        "  print(f'{coleccion[i]}')\n"
      ],
      "metadata": {
        "colab": {
          "base_uri": "https://localhost:8080/"
        },
        "id": "ictq2RH_xTJH",
        "outputId": "237862f6-baf6-4fab-eb48-a64144263ecb"
      },
      "execution_count": 58,
      "outputs": [
        {
          "output_type": "stream",
          "name": "stdout",
          "text": [
            "22\n",
            "23\n",
            "45\n",
            "12\n"
          ]
        }
      ]
    },
    {
      "cell_type": "code",
      "source": [
        "coleccion = {'Alejandro':22, 'Maria':23, 'Jose':45, 'Luis':12}\n",
        "for i in coleccion: \n",
        "  print(f'{i} -> {coleccion[i]}')"
      ],
      "metadata": {
        "colab": {
          "base_uri": "https://localhost:8080/"
        },
        "id": "gLoYIK0OyzkH",
        "outputId": "b3633869-394c-4d75-ff9f-d1980a34fcb1"
      },
      "execution_count": 60,
      "outputs": [
        {
          "output_type": "stream",
          "name": "stdout",
          "text": [
            "Alejandro -> 22\n",
            "Maria -> 23\n",
            "Jose -> 45\n",
            "Luis -> 12\n"
          ]
        }
      ]
    },
    {
      "cell_type": "code",
      "source": [
        "coleccion = {'Alejandro':22, 'Maria':23, 'Jose':45, 'Luis':12}\n",
        "for clave,valor in coleccion.items():\n",
        "  print(f'{clave} -> {valor}')"
      ],
      "metadata": {
        "colab": {
          "base_uri": "https://localhost:8080/"
        },
        "id": "VPcFkvDCzXbj",
        "outputId": "1e6c35ea-9d16-4c87-b3f3-9ace481f03a1"
      },
      "execution_count": 61,
      "outputs": [
        {
          "output_type": "stream",
          "name": "stdout",
          "text": [
            "Alejandro -> 22\n",
            "Maria -> 23\n",
            "Jose -> 45\n",
            "Luis -> 12\n"
          ]
        }
      ]
    },
    {
      "cell_type": "code",
      "source": [
        "#[lista] {Conjuntos} ¿? (colección) [ ] { } ¿?"
      ],
      "metadata": {
        "id": "vsJvEZiG0ZW4"
      },
      "execution_count": null,
      "outputs": []
    },
    {
      "cell_type": "code",
      "source": [
        "#cadenas \n",
        "coleccion ='Alejandro'\n",
        "for i in coleccion:\n",
        "  print(f'{i}')"
      ],
      "metadata": {
        "colab": {
          "base_uri": "https://localhost:8080/"
        },
        "id": "tyGglum00IGK",
        "outputId": "59cc9001-36d1-4f16-88ad-3b03bd30e484"
      },
      "execution_count": 63,
      "outputs": [
        {
          "output_type": "stream",
          "name": "stdout",
          "text": [
            "A\n",
            "l\n",
            "e\n",
            "j\n",
            "a\n",
            "n\n",
            "d\n",
            "r\n",
            "o\n"
          ]
        }
      ]
    },
    {
      "cell_type": "code",
      "source": [
        "#cadenas sin salto de linea con espacios en el medio\n",
        "coleccion ='Alejandro'\n",
        "for i in coleccion:\n",
        "  print(f'{i}', end=' .') #depende de los que ingrese entre '' apositos"
      ],
      "metadata": {
        "colab": {
          "base_uri": "https://localhost:8080/"
        },
        "id": "shEoO2ZP0zFc",
        "outputId": "123d9ae2-ea0e-4d2a-e589-3211be43c413"
      },
      "execution_count": 67,
      "outputs": [
        {
          "output_type": "stream",
          "name": "stdout",
          "text": [
            "A .l .e .j .a .n .d .r .o ."
          ]
        }
      ]
    }
  ]
}