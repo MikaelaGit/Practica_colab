{
  "nbformat": 4,
  "nbformat_minor": 0,
  "metadata": {
    "colab": {
      "name": "Untitled3.ipynb",
      "provenance": [],
      "authorship_tag": "ABX9TyNlu+DMuwrqZASeXpv3tEg0",
      "include_colab_link": true
    },
    "kernelspec": {
      "name": "python3",
      "display_name": "Python 3"
    },
    "language_info": {
      "name": "python"
    }
  },
  "cells": [
    {
      "cell_type": "markdown",
      "metadata": {
        "id": "view-in-github",
        "colab_type": "text"
      },
      "source": [
        "<a href=\"https://colab.research.google.com/github/MikaelaGit/Practica_colab/blob/main/Ejercicios%20del%20Flujo%20de%20control%20Henry.ipynb\" target=\"_parent\"><img src=\"https://colab.research.google.com/assets/colab-badge.svg\" alt=\"Open In Colab\"/></a>"
      ]
    },
    {
      "cell_type": "code",
      "source": [
        "#1) Crear una variable que contenga un elemento del conjunto de números enteros y luego imprimir por pantalla si es mayor o menor a cero\n",
        "e = int(input('Ingrese un numero: '))\n",
        "if e > 0:\n",
        "  print('El numero', str(e), 'es mayor a 0')\n",
        "elif e < 0: \n",
        "  print('El numero', str(e), 'es menor a 0')\n",
        "else: \n",
        "  print('El numero', str(e), 'es igual a 0')"
      ],
      "metadata": {
        "colab": {
          "base_uri": "https://localhost:8080/"
        },
        "id": "hpX6yOmpFNR2",
        "outputId": "0d1c256e-af81-482c-cbb3-8805150ef099"
      },
      "execution_count": 2,
      "outputs": [
        {
          "output_type": "stream",
          "name": "stdout",
          "text": [
            "Ingrese un numero: 8\n",
            "El numero 8 es mayor a 0\n"
          ]
        }
      ]
    },
    {
      "cell_type": "code",
      "source": [
        "#2) Crear dos variables y un condicional que informe si son del mismo tipo de dato\n",
        "var1 = 9\n",
        "var2 = 7\n",
        "if type(var1) == type(var2):\n",
        "  print('El tipo de dato de', type(var1), var1, 'es el mismo de ', type(var2), var2)\n",
        "else:\n",
        "  print('Las variables', var1, 'y', var2, 'no son del mismo tipo')"
      ],
      "metadata": {
        "colab": {
          "base_uri": "https://localhost:8080/"
        },
        "id": "OAoAHugrGzB1",
        "outputId": "dea75fde-5280-44a2-ba43-33ff8c95fb1c"
      },
      "execution_count": 10,
      "outputs": [
        {
          "output_type": "stream",
          "name": "stdout",
          "text": [
            "El tipo de dato de <class 'int'> 9 es el mismo de  <class 'int'> 7\n"
          ]
        }
      ]
    },
    {
      "cell_type": "code",
      "source": [
        "#3) Para los valores enteros del 1 al 20, imprimir por pantalla si es par o impar\n",
        "for i in range(1,21):\n",
        "  if i % 2 == 0:\n",
        "    print(str(i), 'Es un numero par')\n",
        "  else:\n",
        "    print(str(i), 'Es un numero impar')"
      ],
      "metadata": {
        "colab": {
          "base_uri": "https://localhost:8080/"
        },
        "id": "QznQr-SdIc3-",
        "outputId": "82c44ed9-9ace-4366-d0e3-644743568507"
      },
      "execution_count": 12,
      "outputs": [
        {
          "output_type": "stream",
          "name": "stdout",
          "text": [
            "1 Es un numero impar\n",
            "2 Es un numero par\n",
            "3 Es un numero impar\n",
            "4 Es un numero par\n",
            "5 Es un numero impar\n",
            "6 Es un numero par\n",
            "7 Es un numero impar\n",
            "8 Es un numero par\n",
            "9 Es un numero impar\n",
            "10 Es un numero par\n",
            "11 Es un numero impar\n",
            "12 Es un numero par\n",
            "13 Es un numero impar\n",
            "14 Es un numero par\n",
            "15 Es un numero impar\n",
            "16 Es un numero par\n",
            "17 Es un numero impar\n",
            "18 Es un numero par\n",
            "19 Es un numero impar\n",
            "20 Es un numero par\n"
          ]
        }
      ]
    },
    {
      "cell_type": "code",
      "source": [
        "#4) En un ciclo for mostrar para los valores entre 0 y 5 el resultado de elevarlo a la potencia igual a 3\n",
        "for i in range(0,6):\n",
        "  print(str(i), 'Elevado a la 3 potencia: ', i**3)"
      ],
      "metadata": {
        "colab": {
          "base_uri": "https://localhost:8080/"
        },
        "id": "bx2C2ZniKcQC",
        "outputId": "fe7c7839-47fd-462d-d9e1-23b0d12a51e0"
      },
      "execution_count": 13,
      "outputs": [
        {
          "output_type": "stream",
          "name": "stdout",
          "text": [
            "0 Elevado a la 3 potencia:  0\n",
            "1 Elevado a la 3 potencia:  1\n",
            "2 Elevado a la 3 potencia:  8\n",
            "3 Elevado a la 3 potencia:  27\n",
            "4 Elevado a la 3 potencia:  64\n",
            "5 Elevado a la 3 potencia:  125\n"
          ]
        }
      ]
    },
    {
      "cell_type": "code",
      "source": [
        "#5) Crear una variable que contenga un número entero y realizar un ciclo for la misma cantidad de ciclos\n",
        "n = 9\n",
        "for i in range(1,n):\n",
        "  print(i)"
      ],
      "metadata": {
        "colab": {
          "base_uri": "https://localhost:8080/"
        },
        "id": "3kg_ZA40K0eg",
        "outputId": "178c9572-72f5-429f-d59d-b62d3d3d3c89"
      },
      "execution_count": 14,
      "outputs": [
        {
          "output_type": "stream",
          "name": "stdout",
          "text": [
            "1\n",
            "2\n",
            "3\n",
            "4\n",
            "5\n",
            "6\n",
            "7\n",
            "8\n"
          ]
        }
      ]
    },
    {
      "cell_type": "code",
      "execution_count": null,
      "metadata": {
        "id": "UYv13BNJCZAY"
      },
      "outputs": [],
      "source": [
        "## Flujos de Control\n",
        "\n",
        "#1) Crear una variable que contenga un elemento del conjunto de números enteros y luego imprimir por pantalla si es mayor o menor a cero\n",
        "\n",
        "#2) Crear dos variables y un condicional que informe si son del mismo tipo de dato\n",
        "\n",
        "#3) Para los valores enteros del 1 al 20, imprimir por pantalla si es par o impar\n",
        "\n",
        "#4) En un ciclo for mostrar para los valores entre 0 y 5 el resultado de elevarlo a la potencia igual a 3\n",
        "\n",
        "#5) Crear una variable que contenga un número entero y realizar un ciclo for la misma cantidad de ciclos\n",
        "\n",
        "6) Utilizar un ciclo while para realizar el factorial de un número guardado en una variable, sólo si la variable contiene un número entero mayor a 0\n",
        "\n",
        "7) Crear un ciclo for dentro de un ciclo while\n",
        "\n",
        "8) Crear un ciclo while dentro de un ciclo for\n",
        "\n",
        "9) Imprimir los números primos existentes entre 0 y 30\n",
        "\n",
        "10) ¿Se puede mejorar el proceso del punto 9? Utilizar las sentencias break y/ó continue para tal fin\n",
        "\n",
        "11) En los puntos 9 y 10, se diseño un código que encuentra números primos y además se lo optimizó. ¿Es posible saber en qué medida se optimizó?\n",
        "\n",
        "12) Si la cantidad de números que se evalúa es mayor a treinta, esa optimización crece?\n",
        "\n",
        "13) Aplicando continue, armar un ciclo while que solo imprima los valores divisibles por 12, dentro del rango de números de 100 a 300\n",
        "\n",
        "14) Utilizar la función **input()** que permite hacer ingresos por teclado, para encontrar números primos y dar la opción al usario de buscar el siguiente\n",
        "\n",
        "15) Crear un ciclo while que encuentre dentro del rango de 100 a 300 el primer número divisible por 3 y además múltiplo de 6"
      ]
    },
    {
      "cell_type": "code",
      "source": [
        "#6) Utilizar un ciclo while para realizar el factorial de un número guardado en una variable, sólo si la variable contiene un número entero mayor a 0\n",
        "numero = 5\n",
        "factorial = 6\n",
        "while numero != 0: \n",
        "  numero = numero - 1\n",
        "  factorial = factorial * numero\n",
        "if factorial < 1:\n",
        "  print('La factorial de', v, 'es igual a ', factorial)\n",
        "  \n",
        "\n",
        "\n",
        "     \n"
      ],
      "metadata": {
        "colab": {
          "base_uri": "https://localhost:8080/"
        },
        "id": "kqY96FkHLJ7M",
        "outputId": "2db7104f-928d-4b76-ab0e-9316556f6073"
      },
      "execution_count": 50,
      "outputs": [
        {
          "output_type": "stream",
          "name": "stdout",
          "text": [
            "La factorial de 5 es igual a  0\n"
          ]
        }
      ]
    }
  ]
}